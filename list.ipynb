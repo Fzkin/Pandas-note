{
 "cells": [
  {
   "cell_type": "markdown",
   "metadata": {},
   "source": [
    "#### 模拟数据join"
   ]
  },
  {
   "cell_type": "code",
   "execution_count": 1,
   "metadata": {},
   "outputs": [
    {
     "name": "stdout",
     "output_type": "stream",
     "text": [
      "a的值为: ['张三', '李四', '老二']\n",
      "b的值为: ['王五', '王七']\n",
      "c的值为: ['王五']\n",
      "d的值为: ['王七']\n"
     ]
    }
   ],
   "source": [
    "#接口返回值\n",
    "list1 = ['张三', '李四', '王五', '老二']\n",
    "#数据库返回值\n",
    "list2 = ['张三', '李四', '老二', '王七']\n",
    "\n",
    "a = [x for x in list1 if x in list2] #两个列表表都存在\n",
    "b = [y for y in (list1 + list2) if y not in a] #两个列表中的不同元素\n",
    "\n",
    "print('a的值为:',a)\n",
    "print('b的值为:',b)\n",
    "\n",
    "c = [x for x in list1 if x not in list2]  #在list1列表中而不在list2列表中\n",
    "d = [y for y in list2 if y not in list1]  #在list2列表中而不在list1列表中\n",
    "print('c的值为:',c)\n",
    "print('d的值为:',d)"
   ]
  },
  {
   "cell_type": "code",
   "execution_count": null,
   "metadata": {},
   "outputs": [],
   "source": []
  }
 ],
 "metadata": {
  "kernelspec": {
   "display_name": "Python 3",
   "language": "python",
   "name": "python3"
  },
  "language_info": {
   "codemirror_mode": {
    "name": "ipython",
    "version": 3
   },
   "file_extension": ".py",
   "mimetype": "text/x-python",
   "name": "python",
   "nbconvert_exporter": "python",
   "pygments_lexer": "ipython3",
   "version": "3.6.8"
  }
 },
 "nbformat": 4,
 "nbformat_minor": 4
}
