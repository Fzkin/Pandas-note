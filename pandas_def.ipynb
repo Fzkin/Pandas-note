{
 "cells": [
  {
   "cell_type": "markdown",
   "metadata": {},
   "source": [
    "## 自定义函数的使用"
   ]
  },
  {
   "cell_type": "code",
   "execution_count": null,
   "metadata": {},
   "outputs": [],
   "source": [
    "import numpy as np\n",
    "import pandas as pd\n",
    "import matplotlib.pyplot as plt\n",
    "%matplotlib inline"
   ]
  },
  {
   "cell_type": "code",
   "execution_count": null,
   "metadata": {},
   "outputs": [],
   "source": [
    "# todo 将自定义的函数作用到dataframe的行和列 或者Serise的行上\n",
    "ser1 = pd.Series(np.random.randint(-10,10,5),index=list('abcde'))\n",
    "df1 = pd.DataFrame(np.random.randint(-10,10,(4,5)),index=list('ACBD'),columns=list('abcde'))\n",
    "#index是指行标签\n",
    "#columns是列标签\n",
    "df1"
   ]
  },
  {
   "cell_type": "code",
   "execution_count": null,
   "metadata": {},
   "outputs": [],
   "source": [
    "\n",
    "f = lambda x: x.max()-x.min()\n",
    "print(ser1,f(ser1))"
   ]
  },
  {
   "cell_type": "code",
   "execution_count": null,
   "metadata": {},
   "outputs": [],
   "source": [
    "# todo 定义一个函数，求其和，绝对值，最大值减最小值的差值，平方\n",
    "def func(x):\n",
    "    # print(x)\n",
    "    #print('--------------')\n",
    "    num= np.max(x)-np.min(x)\n",
    "    a = abs(x)\n",
    "    b= x**2\n",
    "    # return num\n",
    "    # return a\n",
    "    return b\n",
    "print(func(2))\n",
    "\n",
    "print(df1)\n",
    "print(df1.apply(func))\n"
   ]
  },
  {
   "cell_type": "code",
   "execution_count": null,
   "metadata": {},
   "outputs": [],
   "source": [
    "#### 特殊调用函数的方法\n",
    "# 注意 apply会降级一级数据，矩阵遍历行axis = 1，列表遍历数axis = 0\n",
    "#func 为平方函数 \n",
    "print(df1)\n",
    "print(df1.apply(f))\n",
    "print(df1.apply(f,axis = 1))"
   ]
  },
  {
   "cell_type": "code",
   "execution_count": null,
   "metadata": {},
   "outputs": [],
   "source": [
    "# todo 使用匿名函数实现----求其和，绝对值，最大值减最小值的差值，\n",
    "# 平方，绝对值作用于series与单值上没有区别\n",
    "print(df1.apply(lambda x:x**2,axis=1))#转置无用\n",
    "print('------')\n",
    "print(df1.apply(lambda x:np.max(x)-np.min(x),axis=1))#转置有用\n",
    "print('---------')\n",
    "print(df1.apply(lambda x:abs(x),axis=1))#转置无用\n"
   ]
  },
  {
   "cell_type": "code",
   "execution_count": null,
   "metadata": {},
   "outputs": [],
   "source": [
    "# applymap的使用\n",
    "# todo 使用applymap 因为applymap作用在每个元素上，所以不需要指定axis\n",
    "\n",
    "print(df1.applymap(lambda x:x**2))\n",
    "print('---------')\n",
    "print(df1.applymap(lambda x:abs(x)))"
   ]
  },
  {
   "cell_type": "markdown",
   "metadata": {},
   "source": [
    "## 排序"
   ]
  },
  {
   "cell_type": "code",
   "execution_count": 1,
   "metadata": {},
   "outputs": [
    {
     "name": "stdout",
     "output_type": "stream",
     "text": [
      "a   -3\n",
      "c    8\n",
      "b   -2\n",
      "d   -1\n",
      "f    6\n",
      "e    0\n",
      "g   -6\n",
      "h    1\n",
      "j   -5\n",
      "i    1\n",
      "dtype: int64\n",
      "   a  b  c  d  e\n",
      "A -6  0  2 -6 -7\n",
      "D -8  1  9 -3  6\n",
      "B -1 -7  1  6 -2\n",
      "C -7 -8 -6  7 -9\n"
     ]
    }
   ],
   "source": [
    "import numpy as np\n",
    "import pandas as pd\n",
    "\n",
    "ser1 = pd.Series(np.random.randint(-10,10,10),index=list('acbdfeghji'))\n",
    "df1 = pd.DataFrame(np.random.randint(-10,10,(4,5)),index=list('ADBC'),columns=list('abcde'))\n",
    "print(ser1)\n",
    "print(df1)"
   ]
  },
  {
   "cell_type": "code",
   "execution_count": null,
   "metadata": {},
   "outputs": [],
   "source": [
    "# todo 按照索引排序   sort_index（）\n",
    "# print(ser1.sort_index())#默认升序\n",
    "# print(ser1.sort_index(ascending=False))#指定ascending为降序\n",
    "# print(df1.sort_index())#默认行升序\n",
    "# print(df1.sort_index(ascending=False))#行降序\n",
    "# print(df1.sort_index(axis=1))#列升序\n",
    "# print(df1.sort_index(ascending=False,axis=1))#列降序\n",
    "\n",
    "# todo 按照值排序\n",
    "print(ser1.sort_values())#默认升序\n",
    "print(ser1.sort_values(ascending=False))#指定ascending为降序\n",
    "# dataframe 对象比较复杂，需要按照哪一列来进行排序\n",
    "print(df1.sort_values(by='a'))#默认列升序\n",
    "print(df1.sort_values(by='a',ascending=False))#列降序\n",
    "print(df1.sort_values(by='A',axis=1))#行升序\n",
    "print(df1.sort_values(by='A',ascending=False,axis=1))#行降序"
   ]
  },
  {
   "cell_type": "markdown",
   "metadata": {},
   "source": [
    "## 数据重构"
   ]
  },
  {
   "cell_type": "code",
   "execution_count": null,
   "metadata": {},
   "outputs": [],
   "source": [
    "import numpy as np\n",
    "import pandas as pd\n",
    "ser1 = pd.Series(np.random.randint(-10,10,10),index=[list('aabbccddee'),[1,2,1,2,1,2,1,2,1,2]])\n",
    "df1 = pd.DataFrame(np.random.randint(-10,10,(4,5)),index=list('aabb'),columns=list('abcde'))\n",
    "print(ser1)\n",
    "print(df1)\n",
    "print('-----------------------')\n",
    "# todo 外层索引取值\n",
    "print(ser1['a'])#获取单个外层索引\n",
    "print(ser1['a':'e'])#获取多个外层\n",
    "\n",
    "# todo 内层索引取值\n",
    "print(ser1[:,1])\n",
    "# todo 指定外层，内层索引取值\n",
    "print(ser1['a',1])\n",
    "\n",
    "# todo 交换分层-----swaplevel()\n",
    "print(ser1.swaplevel())\n",
    "# todo 将Sterise转为dataframe对象外层索引作为行索引，内层索引作为列索引\n",
    "print(ser1.unstack())\n",
    "# todo 将dataframe转为Sterise对象行索引作为外层索引行索引，列索引作为内层索引列\n",
    "print(df1.stack())\n",
    "# todo dataframe 转字典\n",
    "print(df1.to_dict())\n",
    "# todo dataframe 转csv文件\n",
    "print(df1.to_csv())"
   ]
  },
  {
   "cell_type": "markdown",
   "metadata": {},
   "source": [
    "## 数据连接操作"
   ]
  },
  {
   "cell_type": "code",
   "execution_count": null,
   "metadata": {},
   "outputs": [],
   "source": [
    "import numpy as np\n",
    "import pandas as pd\n",
    "df1 = pd.DataFrame(\n",
    "    {'key1':list('abcdefgh'),'data1':np.random.randint(-5,10,8)}\n",
    ")\n",
    "df2 = pd.DataFrame(\n",
    "    {'key2':list('defgh'),'data2':np.random.randint(-5,10,5)}\n",
    ")\n",
    "print(df1)\n",
    "print(df2)\n",
    "print('--------------------------')\n",
    "# todo 链接\n",
    "# print(pd.merge(df1,df2,on='key'))# key相同时 通过key连接df1,df2\n",
    "# print(pd.merge(df1,df2))#不指定，连接df1,df2默认通过相同的列来连接\n",
    "# print(pd.merge(df1,df2,on=data1))#data1相同时 通过data1连接df1,df2\n",
    "#todo 交集\n",
    "print(pd.merge(df1,df2,left_on='key1',right_on='key2'))\n",
    "#todo 并集\n",
    "print(pd.merge(df1,df2,how='outer',left_on='key1',right_on='key2'))\n",
    "#todo 左连接\n",
    "print(pd.merge(df1,df2,how='left',left_on='key1',right_on='key2'))\n",
    "#todo 右连接\n",
    "print(pd.merge(df1,df2,how='right',left_on='key1',right_on='key2'))\n",
    "\n",
    "# todo 通过行索引来指定\n",
    "print(pd.merge(df1,df2,left_on='data1',right_index=True))#left_on指定左表的列索引为外健，right_index作业为右表的行索引作为外检\n",
    "print(pd.merge(df1,df2,left_index=True,right_index=True))#left_index,right_index,默认的情况下，将两张表按照航索引的相同情况，合成一条数据\n",
    "print(pd.merge(df1,df2,how='left',left_index=True,right_index=True))# 按照行进行连接，也能指定链接方式\n",
    "\n",
    "注意点:\n",
    "1.how = inner,默认的,内连接,多表的交集\n",
    "2.how = outer,外连接,多表的并集\n",
    "3.how = left,指定为左连接,展示左表的完整数据,不管右表有没有匹配\n",
    "4.how = right,指定为右连接,展示右表的完整数据,不管左表有没有匹配"
   ]
  },
  {
   "cell_type": "markdown",
   "metadata": {},
   "source": [
    "## 数据的合并"
   ]
  },
  {
   "cell_type": "code",
   "execution_count": null,
   "metadata": {},
   "outputs": [],
   "source": [
    "import numpy as np\n",
    "import  pandas as pd\n",
    "\n",
    "\n",
    "# todo np数组的合并  np.concatenate() ,参与合并的数组，纬度大小是一致的，axis=1 为行排序\n",
    "\n",
    "# arr1 = np.random.randint(10,20,(3,4))\n",
    "# arr2 = np.random.randint(10,20,(3,4))\n",
    "# print(arr1)\n",
    "# print(arr2)\n",
    "# print('-------------')\n",
    "# print(np.concatenate((arr1,arr2),axis=0)) #列合并\n",
    "# print('----------')\n",
    "# print(np.concatenate((arr1,arr2),axis=1)) # 行合并\n",
    "\n",
    "# todo pd的合并    pd.concat()\n",
    "# ser1 = pd.Series(np.random.randint(10,20,3))\n",
    "# ser2 = pd.Series(np.random.randint(10,20,5))\n",
    "# ser3 = pd.Series(np.random.randint(10,20,7))\n",
    "# print(ser1)\n",
    "# print(ser2)\n",
    "# print(ser3)\n",
    "# print('-------------')\n",
    "#\n",
    "# print(pd.concat([ser1,ser2,ser3]))#多个Serise 对象需要用【】包起来，默认是列合并\n",
    "# print(pd.concat([ser1,ser2,ser3],axis=1))# axis=1 行合并 ,不够的部分用NAN填充\n",
    "# print(pd.concat([ser1,ser2,ser3],axis=1,join='outer'))#  默认是outer 并集\n",
    "\n",
    "df1 = pd.DataFrame(\n",
    "    {'key1':list('abcdefgh'),'data1':np.random.randint(-5,10,8)}\n",
    ")\n",
    "df2 = pd.DataFrame(\n",
    "    {'key2':list('abcde'),'data2':np.random.randint(-5,10,5)}\n",
    ")\n",
    "\n",
    "print(pd.concat((df1,df2)))# 默认按照列合并\n",
    "print(pd.concat((df1,df2),axis=1))# 按照行合并\n",
    "print(pd.concat((df1,df2),axis=1,join='inner'))# 交集合并"
   ]
  },
  {
   "cell_type": "markdown",
   "metadata": {},
   "source": [
    "## 分组"
   ]
  },
  {
   "cell_type": "code",
   "execution_count": null,
   "metadata": {},
   "outputs": [],
   "source": [
    "import pandas as pd\n",
    "import numpy as np\n",
    "\n",
    "\n",
    "df1 = pd.DataFrame(\n",
    "    {'key1':list('abcdefgh'),'data1':np.random.randint(-5,10,8),'key2':list('11223344'),'data2':np.random.randint(-5,10,8)}\n",
    ")\n",
    "print(df1)\n",
    "df2 = pd.DataFrame(\n",
    "    {'key2':list('abcde'),'data2':np.random.randint(-5,10,5)}\n",
    ")\n",
    "\n",
    "print('----------------')\n",
    "# todo 分组 groupby()\n",
    "\n",
    "group_obj = df1.groupby(by='key2')#通过key1进行分组,返回一个分组对象，分组之后可以用函数进行下一步处理，计算过程中，非数字的数据不参与计算\n",
    "# print(group_obj)\n",
    "# print('--------rrrr-------')\n",
    "# print(group_obj.sum()) # 分组求和\n",
    "# print(group_obj.mean()) # 分组求均值\n",
    "# print(group_obj.size()) # 每个分组的元素个数\n",
    "# print(group_obj.count()) # 每个分组之后，列名里面的个数\n",
    "#\n",
    "# # todo 迭代分组对象  注意点：1.每一个元素形式（分组名，属于分组的数据）2.属于该分组的数据，也是dataframe对象\n",
    "# for i in group_obj:\n",
    "#     print(i)\n",
    "# print('----------')\n",
    "# # todo 迭代分组对象的拆分\n",
    "# for name,data in group_obj:\n",
    "#     print('---')\n",
    "#     print(name)\n",
    "#     print(data)\n",
    "#\n",
    "# # todo 分组对象转列表\n",
    "# print(list(group_obj))\n",
    "# # todo 分组对象转字典\n",
    "# print(dict(list(group_obj)))\n",
    "#\n",
    "#\n",
    "#\n",
    "#\n",
    "# # todo 聚合（数组产生标量的过程，常常用于分组之后的数据运算）\n",
    "# # todo 内置的聚合函数\n",
    "# # todo sum() 求和\n",
    "# # todo mean（）平均值\n",
    "# # todo size（）\n",
    "# # todo max()\n",
    "# # todo min()\n",
    "# # todo count\n",
    "#\n",
    "# print(group_obj.describe()) #查看具体的聚合数据\n",
    "# todo 使用单个内置函数\n",
    "# print(group_obj.agg('max'))#agg里面可以填写内置函数，如果需要使用内置的函数，要用字符串的形式填写\n",
    "# print(group_obj.agg('min'))\n",
    "# # todo 使用多个内置函数\n",
    "# print(group_obj.agg(['max','min','mean']))#需要用列表的形式\n",
    "# # todo 使用内置的函数取中文别名\n",
    "# print(group_obj.agg([('最大值','max'),('最小值','min'),('均值','mean')]))# 第一个参数是别名\n",
    "\n",
    "# todo 自定义函数\n",
    "def print1(x):\n",
    "    # print(x)\n",
    "    ret = x.max()-x.min()\n",
    "    return ret\n",
    "print(group_obj.agg([('差值',print1)]))\n",
    "# todo 匿名函数\n",
    "print(lambda x:x.max()-x.min())\n",
    "# todo data1求最大值，data2 求最小值  不同的列用不同的函数\n",
    "print(group_obj.agg(\n",
    "    {\n",
    "        'data1':['max'],\n",
    "        'data2':[('最小值','min')]\n",
    "    }))"
   ]
  },
  {
   "cell_type": "markdown",
   "metadata": {},
   "source": [
    "## 数据分组之后再合并"
   ]
  },
  {
   "cell_type": "code",
   "execution_count": null,
   "metadata": {},
   "outputs": [],
   "source": [
    "import pandas as pd\n",
    "import numpy as np\n",
    "\n",
    "\n",
    "# todo 分组聚合之后数据的处理\n",
    "dict_new = {\n",
    "    'data1':np.random.randint(5,15,8),\n",
    "    'data2':np.random.randint(5,15,8),\n",
    "    'data3':4,\n",
    "    'key1':list('aabbccdd'),\n",
    "    'key2':['one','two','three','one','two','three','one','two']\n",
    "}\n",
    "df1 = pd.DataFrame(dict_new,index=list('ADCBFEGH'))\n",
    "print(df1)\n",
    "# # todo 按照key1进行分组,\n",
    "# groupy_obj = df1.groupby(by='key1')\n",
    "# print(groupy_obj)\n",
    "# for name,data in groupy_obj:\n",
    "#     print(name)\n",
    "#     print(data)\n",
    "# # todo 分组之后进行求和操作\n",
    "# sum_data_group = groupy_obj.sum()\n",
    "# print(sum_data_group)\n",
    "# # todo 分组之后增加前缀\n",
    "# sum_data_group = sum_data_group.add_prefix('group_key1')\n",
    "# print(sum_data_group)\n",
    "# # todo 先用merge进行关联\n",
    "# merge_df = pd.merge(df1,sum_data_group,left_on='key1',right_index=True)#左表的列名，右表的行索引名\n",
    "# print(merge_df)\n",
    "\n",
    "\n",
    "\n",
    "# todo 取数据的两列分组\n",
    "groupby_obj = df1.loc[:,['data1','data2']].groupby(df1['key1'])#选区数据其中的数据，按照数据中的列进行分组\n",
    "# todo 求和\n",
    "data = groupby_obj.sum()\n",
    "data1 = groupby_obj.transform('sum').add_prefix('trans_group')#transform 来计算会维持原来的数据结构\n",
    "# todo 按行合并\n",
    "print(pd.concat([df1,data1],axis=1))"
   ]
  }
 ],
 "metadata": {
  "kernelspec": {
   "display_name": "Python 3",
   "language": "python",
   "name": "python3"
  },
  "language_info": {
   "codemirror_mode": {
    "name": "ipython",
    "version": 3
   },
   "file_extension": ".py",
   "mimetype": "text/x-python",
   "name": "python",
   "nbconvert_exporter": "python",
   "pygments_lexer": "ipython3",
   "version": "3.6.8"
  }
 },
 "nbformat": 4,
 "nbformat_minor": 4
}
